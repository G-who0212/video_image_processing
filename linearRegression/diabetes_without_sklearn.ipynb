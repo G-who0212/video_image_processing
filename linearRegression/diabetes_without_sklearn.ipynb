{
  "cells": [
    {
      "cell_type": "markdown",
      "metadata": {
        "id": "view-in-github",
        "colab_type": "text"
      },
      "source": [
        "<a href=\"https://colab.research.google.com/github/G-who0212/video_image_processing/blob/main/linearRegression/HW1_B811042_Kim_JiHoo.ipynb\" target=\"_parent\"><img src=\"https://colab.research.google.com/assets/colab-badge.svg\" alt=\"Open In Colab\"/></a>"
      ]
    },
    {
      "cell_type": "code",
      "execution_count": 7,
      "metadata": {
        "id": "t-lJgy7C4I-u"
      },
      "outputs": [],
      "source": [
        "import matplotlib.pylab as plt\n",
        "import numpy as np\n",
        "from sklearn.linear_model import LinearRegression\n",
        "from sklearn import datasets\n",
        "\n",
        "# Load the diabetes dataset. \n",
        "diabetes_X, diabetes_y = datasets.load_diabetes(return_X_y=True)\n",
        "\n",
        "# Select only one feature (BMI) and make into a 2-D array. The index of BMI feature is 2.\n",
        "diabetes_X_new = diabetes_X[:, np.newaxis, 2]\n",
        "\n",
        "# Separate training data from test data. \n",
        "from sklearn.model_selection import train_test_split\n",
        "X_train, X_test, y_train, y_test = train_test_split(diabetes_X_new, diabetes_y, test_size=0.1, random_state=0)\n",
        "\n"
      ]
    },
    {
      "cell_type": "code",
      "execution_count": 8,
      "metadata": {
        "colab": {
          "base_uri": "https://localhost:8080/",
          "height": 265
        },
        "id": "GaEWM9-o4Ua1",
        "outputId": "beda140e-0d9f-4760-9cd0-2e1489a14e77"
      },
      "outputs": [
        {
          "output_type": "display_data",
          "data": {
            "text/plain": [
              "<Figure size 432x288 with 1 Axes>"
            ],
            "image/png": "[encoded data removed]"
          },
          "metadata": {
            "needs_background": "light"
          }
        }
      ],
      "source": [
        "# Linear Regression with sklearn\n",
        "regr = LinearRegression()\n",
        "regr.fit(X_train, y_train)\n",
        "\n",
        "# Let's make predictions with test data. \n",
        "y_pred = regr.predict(X_test) \n",
        "\n",
        "# Compare the real data with our prediction. \n",
        "plt.scatter(X_test, y_test,  color='black')\n",
        "plt.plot(X_test,y_pred, color='blue', linewidth=3)\n",
        "plt.show()"
      ]
    },
    {
      "cell_type": "code",
      "execution_count": 9,
      "metadata": {
        "colab": {
          "base_uri": "https://localhost:8080/"
        },
        "id": "bhFA_peQ49zc",
        "outputId": "01c2e2e0-6b3d-4acf-f47f-39fdd07ad4b9"
      },
      "outputs": [
        {
          "output_type": "execute_result",
          "data": {
            "text/plain": [
              "(array([966.7269242]), 151.2093314760623)"
            ]
          },
          "metadata": {},
          "execution_count": 9
        }
      ],
      "source": [
        "# Trained weights with sklearn\n",
        "regr.coef_, regr.intercept_"
      ]
    },
    {
      "cell_type": "code",
      "execution_count": 10,
      "metadata": {
        "id": "WB0lXVQ88jkr"
      },
      "outputs": [],
      "source": [
        "# Training data for your Linear regression algorithm\n",
        "X_train = X_train[:,0]\n",
        "X_test = X_test[:,0]\n"
      ]
    },
    {
      "cell_type": "markdown",
      "metadata": {
        "id": "pd3_fupZBkYf"
      },
      "source": [
        "# Todo: Implement the Gradient Descent Algorithm for Linear Regression\n"
      ]
    },
    {
      "cell_type": "code",
      "execution_count": 11,
      "metadata": {
        "id": "VWEPxGzq6Z8h"
      },
      "outputs": [],
      "source": [
        "# Train W and b using the training data only\n",
        "# Use X_train and y_train only\n",
        "\n",
        "W = np.random.rand()    # Initialization of W\n",
        "b = np.random.rand()    # Initialization of b\n",
        "\n",
        "\n",
        "epochs = 25000              # number of epochs\n",
        "n = float(len(X_train))     # number of training samples\n",
        "lr = 0.1                    # learning rate\n",
        "\n",
        "train_loss = []\n",
        "\n",
        "for k in range(epochs):\n",
        "# Implement the gradient descent here\n",
        "  y_pred = W * X_train + b\n",
        "  error = y_train - y_pred\n",
        "  \n",
        "  dW = (2/n) * sum(-X_train * (error))\n",
        "  db = (2/n) * sum(-(error))\n",
        "  \n",
        "  W = W - lr * dW\n",
        "  b = b - lr * db\n",
        "\n",
        "  train_loss.append((1/n) * sum((y_train - y_pred) ** 2))"
      ]
    },
    {
      "cell_type": "code",
      "execution_count": 12,
      "metadata": {
        "colab": {
          "base_uri": "https://localhost:8080/"
        },
        "id": "woAphcnk-kYi",
        "outputId": "e15cd4a9-4f3e-4fca-9333-e58f02065523"
      },
      "outputs": [
        {
          "output_type": "stream",
          "name": "stdout",
          "text": [
            "Trained parameters\n",
            "W: 966.7169386855294 b: 151.20932680537575\n"
          ]
        }
      ],
      "source": [
        "print(\"Trained parameters\")\n",
        "print(\"W:\",W,\"b:\",b)"
      ]
    },
    {
      "cell_type": "code",
      "execution_count": 13,
      "metadata": {
        "colab": {
          "base_uri": "https://localhost:8080/",
          "height": 265
        },
        "id": "Rtn6GF0dATxa",
        "outputId": "f8dfb92b-ded9-4a51-b116-0439df9b7aef"
      },
      "outputs": [
        {
          "output_type": "display_data",
          "data": {
            "text/plain": [
              "<Figure size 432x288 with 1 Axes>"
            ],
            "image/png": "[encoded data removed]"
          },
          "metadata": {
            "needs_background": "light"
          }
        }
      ],
      "source": [
        "# Prediction: Using only the test data \n",
        "# use X_test and y test only\n",
        "\n",
        "y_pred = W*X_test + b\n",
        "plt.scatter(X_test, y_test,  color='black')\n",
        "plt.plot(X_test,y_pred, color='blue', linewidth=3)\n",
        "plt.show()"
      ]
    },
    {
      "cell_type": "code",
      "execution_count": 14,
      "metadata": {
        "colab": {
          "base_uri": "https://localhost:8080/",
          "height": 295
        },
        "id": "bUsJRzcl9CYj",
        "outputId": "ce96cf2f-a869-48fe-cdec-c5ce730df0ee"
      },
      "outputs": [
        {
          "output_type": "display_data",
          "data": {
            "text/plain": [
              "<Figure size 432x288 with 1 Axes>"
            ],
            "image/png": "[encoded data removed]"
          },
          "metadata": {
            "needs_background": "light"
          }
        }
      ],
      "source": [
        "# Display the loss at every epoch (sum of squares error on your training data)\n",
        "plt.plot(np.arange(epochs), train_loss,  color='black')\n",
        "plt.title(\"Loss vs epochs\")\n",
        "plt.xlabel(\"epochs\")\n",
        "plt.ylabel(\"Training Loss\")\n",
        "plt.show()"
      ]
    },
    {
      "cell_type": "code",
      "execution_count": 15,
      "metadata": {
        "colab": {
          "base_uri": "https://localhost:8080/",
          "height": 295
        },
        "id": "9kfuM-qeAe_m",
        "outputId": "79019d72-ccda-4c34-decc-6b4342512545"
      },
      "outputs": [
        {
          "output_type": "display_data",
          "data": {
            "text/plain": [
              "<Figure size 432x288 with 1 Axes>"
            ],
            "image/png": "[encoded data removed]"
          },
          "metadata": {
            "needs_background": "light"
          }
        }
      ],
      "source": [
        "# Display the same, but only for last 10000 epochs\n",
        "plt.plot(np.arange(epochs)[15000:], train_loss[15000:],  color='black')\n",
        "plt.title(\"Loss vs last 10000 epochs\")\n",
        "plt.xlabel(\"Last 10000 epochs\")\n",
        "plt.ylabel(\"Training Loss\")\n",
        "plt.show()"
      ]
    }
  ],
  "metadata": {
    "colab": {
      "collapsed_sections": [],
      "provenance": [],
      "include_colab_link": true
    },
    "kernelspec": {
      "display_name": "Python 3",
      "name": "python3"
    },
    "language_info": {
      "name": "python"
    }
  },
  "nbformat": 4,
  "nbformat_minor": 0
}
