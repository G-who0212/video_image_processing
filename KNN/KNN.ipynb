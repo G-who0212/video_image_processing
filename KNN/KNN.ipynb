{
  "nbformat": 4,
  "nbformat_minor": 0,
  "metadata": {
    "colab": {
      "provenance": [],
      "collapsed_sections": [],
      "include_colab_link": true
    },
    "kernelspec": {
      "name": "python3",
      "display_name": "Python 3"
    },
    "language_info": {
      "name": "python"
    }
  },
  "cells": [
    {
      "cell_type": "markdown",
      "metadata": {
        "id": "view-in-github",
        "colab_type": "text"
      },
      "source": [
        "<a href=\"https://colab.research.google.com/github/G-who0212/video_image_processing/blob/main/KNN/KNN.ipynb\" target=\"_parent\"><img src=\"https://colab.research.google.com/assets/colab-badge.svg\" alt=\"Open In Colab\"/></a>"
      ]
    },
    {
      "cell_type": "markdown",
      "source": [
        "# Exercise: k-nearest neighbor (kNN) classifier with sklearn"
      ],
      "metadata": {
        "id": "Q_6gkvIoyt8e"
      }
    },
    {
      "cell_type": "code",
      "source": [
        "import numpy as np\n",
        "import random\n",
        "import matplotlib.pyplot as plt\n",
        "from keras.datasets import mnist\n",
        "\n",
        "\n",
        "# load MNIST data\n",
        "(train_X, train_y), (test_X, test_y) = mnist.load_data()\n",
        "\n",
        "# 60000 training dataset // 100000 training dataset\n",
        "print(train_X.shape, train_y.shape, test_X.shape, test_y.shape)"
      ],
      "metadata": {
        "colab": {
          "base_uri": "https://localhost:8080/"
        },
        "id": "7gWzNvN6rCOi",
        "outputId": "61701f90-82e0-422f-d72d-34dc29aaa4e0"
      },
      "execution_count": 1,
      "outputs": [
        {
          "output_type": "stream",
          "name": "stdout",
          "text": [
            "Downloading data from https://storage.googleapis.com/tensorflow/tf-keras-datasets/mnist.npz\n",
            "11493376/11490434 [==============================] - 0s 0us/step\n",
            "11501568/11490434 [==============================] - 0s 0us/step\n",
            "(60000, 28, 28) (60000,) (10000, 28, 28) (10000,)\n"
          ]
        }
      ]
    },
    {
      "cell_type": "code",
      "source": [
        "# Display Some of the (training) data\n",
        "sample_index = np.random.choice(60000, size=12)\n",
        "num_samples = sample_index.size\n",
        "\n",
        "random_samples = train_X[sample_index]\n",
        "\n",
        "plt.figure(figsize=(12, 12))\n",
        "\n",
        "for k in range(num_samples):\n",
        "    plt.subplot(4, 4, k + 1)\n",
        "    plt.imshow(random_samples[k].reshape(28, 28),cmap='Greys')\n",
        "    plt.title(train_y[sample_index[k]])\n",
        "    plt.axis('off')\n",
        "\n",
        "    \n",
        "plt.show()"
      ],
      "metadata": {
        "colab": {
          "base_uri": "https://localhost:8080/",
          "height": 529
        },
        "id": "86sYl3KEufy5",
        "outputId": "b09bf4de-0a31-4cca-c62e-6cd19398d5db"
      },
      "execution_count": 2,
      "outputs": [
        {
          "output_type": "display_data",
          "data": {
            "text/plain": [
              "<Figure size 864x864 with 12 Axes>"
            ],
            "image/png": "[encoded data removed]"
          },
          "metadata": {
            "needs_background": "light"
          }
        }
      ]
    },
    {
      "cell_type": "code",
      "source": [
        "# Prepare dataset for training (reshape)\n",
        "\n",
        "X_train = train_X.reshape(60000,784).astype(float)\n",
        "X_test = test_X.reshape(10000,784).astype(float)\n",
        "y_train = train_y\n",
        "y_test = test_y\n",
        "\n",
        "X_train.shape, y_train.shape, X_test.shape, y_test.shape"
      ],
      "metadata": {
        "colab": {
          "base_uri": "https://localhost:8080/"
        },
        "id": "u20wP3RurMek",
        "outputId": "6aa1135e-b7a4-4baf-f023-6c5506ba210a"
      },
      "execution_count": 13,
      "outputs": [
        {
          "output_type": "execute_result",
          "data": {
            "text/plain": [
              "((60000, 784), (60000,), (10000, 784), (10000,))"
            ]
          },
          "metadata": {},
          "execution_count": 13
        }
      ]
    },
    {
      "cell_type": "markdown",
      "source": [
        "# kNN with k=5 and L2 norm"
      ],
      "metadata": {
        "id": "3AHiK6TgzQWS"
      }
    },
    {
      "cell_type": "code",
      "source": [
        "# k-NN training with sklearn\n",
        "from sklearn.neighbors import KNeighborsClassifier\n",
        "\n",
        "clf = KNeighborsClassifier(n_neighbors= 5, p = 2)      # 5-nearest neighbor // L2 norm\n",
        "clf.fit(X_train, y_train)\n"
      ],
      "metadata": {
        "colab": {
          "base_uri": "https://localhost:8080/"
        },
        "id": "qLJUZIAnxhgE",
        "outputId": "db3312ad-fbcf-4444-db5e-4afe15a24e9c"
      },
      "execution_count": 14,
      "outputs": [
        {
          "output_type": "execute_result",
          "data": {
            "text/plain": [
              "KNeighborsClassifier()"
            ]
          },
          "metadata": {},
          "execution_count": 14
        }
      ]
    },
    {
      "cell_type": "code",
      "source": [
        "# Measure the accuracy of the kNN\n",
        "from sklearn.metrics import accuracy_score\n",
        "\n",
        "pred = clf.predict(X_test)\n",
        "print(\"Accuracy: \", accuracy_score(y_test, pred))\n"
      ],
      "metadata": {
        "colab": {
          "base_uri": "https://localhost:8080/"
        },
        "id": "dmlN3rf8pHJ4",
        "outputId": "da2d81b7-640b-4f3b-8af7-1c6dc7cd53f8"
      },
      "execution_count": 5,
      "outputs": [
        {
          "output_type": "stream",
          "name": "stdout",
          "text": [
            "Accuracy:  0.9688\n"
          ]
        }
      ]
    },
    {
      "cell_type": "code",
      "source": [
        "# Display test result (predicted labels and actual label)\n",
        "\n",
        "sample_index = np.random.choice(10000, size=12)     # take 12 random sample index\n",
        "num_samples = sample_index.size\n",
        "\n",
        "random_samples = test_X[sample_index]\n",
        "\n",
        "plt.figure(figsize=(12, 12))\n",
        "\n",
        "for k in range(num_samples):\n",
        "    plt.subplot(4, 4, k + 1)\n",
        "    plt.imshow(random_samples[k].reshape(28, 28),cmap='Greys')\n",
        "    plt.title(\"True: \" + str( test_y[sample_index[k]]) + \", Pred: \" + str(pred[sample_index[k]]))\n",
        "    plt.axis('off')\n",
        "\n",
        "    \n",
        "plt.show()"
      ],
      "metadata": {
        "colab": {
          "base_uri": "https://localhost:8080/",
          "height": 529
        },
        "id": "wtN6AVAN3n7c",
        "outputId": "e4af0e40-d1cb-4e29-f559-490885952e0e"
      },
      "execution_count": 6,
      "outputs": [
        {
          "output_type": "display_data",
          "data": {
            "text/plain": [
              "<Figure size 864x864 with 12 Axes>"
            ],
            "image/png": "[encoded data removed]"
          },
          "metadata": {
            "needs_background": "light"
          }
        }
      ]
    },
    {
      "cell_type": "markdown",
      "source": [
        "# TODO: Implement k-NN on your own (without sklearn)"
      ],
      "metadata": {
        "id": "nMq0vfRsxzkf"
      }
    },
    {
      "cell_type": "code",
      "source": [
        "# L2 distance\n",
        "def L2_distance(x, y):\n",
        "    return np.sqrt( np.sum((x - y)**2, axis=1) )\n"
      ],
      "metadata": {
        "id": "fS4n49dTpHf7"
      },
      "execution_count": 15,
      "outputs": []
    },
    {
      "cell_type": "code",
      "source": [
        "# Your own K-nearest neighbor \n",
        "from collections import Counter\n",
        "def my_kNN(X_train, y_train, X_test, k):\n",
        "    pred = []  # prediction result\n",
        "    for dat in X_test:\n",
        "######### Implement your codes here #########################\n",
        "        # measure distance between dat and training data\n",
        "        distance = L2_distance(X_train, dat) # 하나의 데이터와 모든 X_train 데이터를 비교한다. distance에 에 60000개의 거리 데이터가 있다.\n",
        "        # find k-minimum values (index)\n",
        "        idx = np.argpartition(distance, k)[:k] # idx에 거리(짧은 순서로) 정렬한 k개의 인덱스 값이 나열돼있다.\n",
        "        # take the majority vote\n",
        "        vote = Counter(idx) # 인덱스의 개수를 세기 위해서 Counter 객체에 넣는다.\n",
        "        n = vote.most_common(1)[0][0] # 가장 많이 등장한 인덱스 하나를 뽑아낸다.\n",
        "        pred.append(y_train[n]) # pred 리스트에 해당 인덱스에 해당하는 y_train값을 넣는다.\n",
        "\n",
        "    return np.array(pred)\n",
        "    \n",
        "\n"
      ],
      "metadata": {
        "id": "z1rJA7wGyAIu"
      },
      "execution_count": 28,
      "outputs": []
    },
    {
      "cell_type": "code",
      "source": [
        "# run your kNN classifier & measure accuracy\n",
        "\n",
        "# test your code with only 100 test data\n",
        "num_test = 100\n",
        "pred = my_kNN(X_train, y_train, X_test[:num_test], 5)\n",
        "print(\"Accuracy: \", accuracy_score(y_test[:num_test], pred))\n",
        "\n"
      ],
      "metadata": {
        "colab": {
          "base_uri": "https://localhost:8080/"
        },
        "id": "3pX6Q0j61bSj",
        "outputId": "0dd34576-cf42-49d6-c1f8-98a14a6ba712"
      },
      "execution_count": 29,
      "outputs": [
        {
          "output_type": "stream",
          "name": "stdout",
          "text": [
            "Accuracy:  0.99\n"
          ]
        }
      ]
    },
    {
      "cell_type": "code",
      "source": [
        "# Display Some test results \n",
        "\n",
        "\n",
        "sample_index = np.random.choice(num_test, size=12)     # take 12 random sample index\n",
        "num_samples = sample_index.size\n",
        "\n",
        "random_samples = test_X[sample_index]\n",
        "\n",
        "plt.figure(figsize=(12, 12))\n",
        "\n",
        "for k in range(num_samples):\n",
        "    plt.subplot(4, 4, k + 1)\n",
        "    plt.imshow(random_samples[k].reshape(28, 28),cmap='Greys')\n",
        "    plt.title(\"True: \" + str( test_y[sample_index[k]]) + \", Pred: \" + str(pred[sample_index[k]]))\n",
        "    plt.axis('off')\n",
        "\n",
        "    \n",
        "plt.show()"
      ],
      "metadata": {
        "colab": {
          "base_uri": "https://localhost:8080/",
          "height": 529
        },
        "id": "N2PmKUty66Wz",
        "outputId": "f586773b-9e04-41e9-91c8-e70985f1e30d"
      },
      "execution_count": 30,
      "outputs": [
        {
          "output_type": "display_data",
          "data": {
            "text/plain": [
              "<Figure size 864x864 with 12 Axes>"
            ],
            "image/png": "[encoded data removed]"
          },
          "metadata": {
            "needs_background": "light"
          }
        }
      ]
    }
  ]
}