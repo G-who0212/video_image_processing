{
  "nbformat": 4,
  "nbformat_minor": 0,
  "metadata": {
    "colab": {
      "provenance": [],
      "authorship_tag": "ABX9TyNfVTk94R0K6RQqA8TzN0tS",
      "include_colab_link": true
    },
    "kernelspec": {
      "name": "python3",
      "display_name": "Python 3"
    },
    "language_info": {
      "name": "python"
    }
  },
  "cells": [
    {
      "cell_type": "markdown",
      "metadata": {
        "id": "view-in-github",
        "colab_type": "text"
      },
      "source": [
        "<a href=\"https://colab.research.google.com/github/G-who0212/video_image_processing/blob/main/practice/saving_model.ipynb\" target=\"_parent\"><img src=\"https://colab.research.google.com/assets/colab-badge.svg\" alt=\"Open In Colab\"/></a>"
      ]
    },
    {
      "cell_type": "code",
      "execution_count": null,
      "metadata": {
        "colab": {
          "base_uri": "https://localhost:8080/"
        },
        "id": "OaGVdHR0I8D-",
        "outputId": "b73ed5a5-e599-4fcf-f72b-0210d447a0ae"
      },
      "outputs": [
        {
          "output_type": "stream",
          "name": "stdout",
          "text": [
            "Model: \"sequential_2\"\n",
            "_________________________________________________________________\n",
            " Layer (type)                Output Shape              Param #   \n",
            "=================================================================\n",
            " conv2d_2 (Conv2D)           (None, 28, 28, 32)        320       \n",
            "                                                                 \n",
            " max_pooling2d_2 (MaxPooling  (None, 14, 14, 32)       0         \n",
            " 2D)                                                             \n",
            "                                                                 \n",
            " flatten_2 (Flatten)         (None, 6272)              0         \n",
            "                                                                 \n",
            " dense_4 (Dense)             (None, 128)               802944    \n",
            "                                                                 \n",
            " dense_5 (Dense)             (None, 10)                1290      \n",
            "                                                                 \n",
            "=================================================================\n",
            "Total params: 804,554\n",
            "Trainable params: 804,554\n",
            "Non-trainable params: 0\n",
            "_________________________________________________________________\n",
            "Epoch 1/3\n",
            "1875/1875 [==============================] - 50s 26ms/step - loss: 0.3914 - accuracy: 0.8611 - val_loss: 0.3123 - val_accuracy: 0.8856\n",
            "Epoch 2/3\n",
            "1875/1875 [==============================] - 48s 26ms/step - loss: 0.2631 - accuracy: 0.9047 - val_loss: 0.2787 - val_accuracy: 0.8985\n",
            "Epoch 3/3\n",
            "1875/1875 [==============================] - 54s 29ms/step - loss: 0.2168 - accuracy: 0.9203 - val_loss: 0.2663 - val_accuracy: 0.9049\n"
          ]
        },
        {
          "output_type": "execute_result",
          "data": {
            "text/plain": [
              "<keras.callbacks.History at 0x7f19ea39cf10>"
            ]
          },
          "metadata": {},
          "execution_count": 8
        }
      ],
      "source": [
        "import tensorflow as tf\n",
        "import matplotlib.pyplot as plt\n",
        "import numpy as np\n",
        "\n",
        "(trainX, trainY), (testX, testY) = tf.keras.datasets.fashion_mnist.load_data() \n",
        "\n",
        "trainX = trainX / 255.0\n",
        "testX = testX / 255.0\n",
        "\n",
        "trainX = trainX.reshape((trainX.shape[0], 28, 28, 1))\n",
        "testX = testX.reshape((testX.shape[0], 28, 28, 1))\n",
        "\n",
        "class_name = ['T-shirt/top', 'Trouser', 'Pullover', 'Dress', 'Coat', 'Sandal', 'Shirt', 'Sneaker', 'Bag', 'Ankle boot']\n",
        "\n",
        "model = tf.keras.Sequential([ \n",
        "    tf.keras.layers.Conv2D(32, (3,3), padding=\"same\", activation='relu', input_shape=(28,28,1)), \n",
        "    tf.keras.layers.MaxPooling2D((2,2)), \n",
        "    tf.keras.layers.Flatten(),\n",
        "    tf.keras.layers.Dense(128, activation=\"relu\"),\n",
        "    tf.keras.layers.Dense(10, activation=\"softmax\"), \n",
        "])\n",
        "\n",
        "call_back = tf.keras.callbacks.ModelCheckpoint(\n",
        "    filepath='checkpoint/mnist', # -> 매번 epoch가 실행될 때마다 덮어쓴다.\n",
        "    #filepath='checkpoint/mnist{epoch}', -> 덮어쓰지 않고, mnist1.data~, mnist2.data~, mnist3.data~의 형태로 저장됨\n",
        "\n",
        "    #monitor='val_acc',\n",
        "    #mode='max',\n",
        "    #val_acc가 최대가 되는 checkpoint만 저장해라\n",
        "\n",
        "    save_weights_only=True,\n",
        "    save_freq=\"epoch\"\n",
        ")\n",
        "\n",
        "model.summary() \n",
        "\n",
        "model.compile(loss=\"sparse_categorical_crossentropy\", optimizer=\"adam\", metrics=['accuracy']) \n",
        "model.fit(trainX, trainY, validation_data=(testX,testY), epochs=3, callbacks=[call_back])\n"
      ]
    },
    {
      "cell_type": "code",
      "source": [
        "# # 방법1) 전체 모델 저장하기 / 로드\n",
        "# model.save('newFolder/model1')"
      ],
      "metadata": {
        "colab": {
          "base_uri": "https://localhost:8080/"
        },
        "id": "_tdNQnM5KwCD",
        "outputId": "d2e2afea-5cc5-444e-b5f6-4b1b4593f462"
      },
      "execution_count": null,
      "outputs": [
        {
          "output_type": "stream",
          "name": "stderr",
          "text": [
            "WARNING:absl:Found untraced functions such as _jit_compiled_convolution_op while saving (showing 1 of 1). These functions will not be directly callable after loading.\n"
          ]
        }
      ]
    },
    {
      "cell_type": "code",
      "source": [
        "# calledModel = tf.keras.models.load_model('newFolder/model1') # 저장한 모델 불러오기\n",
        "\n",
        "\n",
        "# calledModel.summary() # 과거에 학습했던 결과 그대로 나옴\n",
        "# calledModel.evaluate(testX, testY) # 과거에 학습했던 결과 그대로 나옴"
      ],
      "metadata": {
        "colab": {
          "base_uri": "https://localhost:8080/"
        },
        "id": "cwKAKu1oKw1A",
        "outputId": "fa7b9820-e427-4c13-c915-0991df1b13dc"
      },
      "execution_count": null,
      "outputs": [
        {
          "output_type": "stream",
          "name": "stdout",
          "text": [
            "Model: \"sequential_1\"\n",
            "_________________________________________________________________\n",
            " Layer (type)                Output Shape              Param #   \n",
            "=================================================================\n",
            " conv2d_1 (Conv2D)           (None, 28, 28, 32)        320       \n",
            "                                                                 \n",
            " max_pooling2d_1 (MaxPooling  (None, 14, 14, 32)       0         \n",
            " 2D)                                                             \n",
            "                                                                 \n",
            " flatten_1 (Flatten)         (None, 6272)              0         \n",
            "                                                                 \n",
            " dense_2 (Dense)             (None, 128)               802944    \n",
            "                                                                 \n",
            " dense_3 (Dense)             (None, 10)                1290      \n",
            "                                                                 \n",
            "=================================================================\n",
            "Total params: 804,554\n",
            "Trainable params: 804,554\n",
            "Non-trainable params: 0\n",
            "_________________________________________________________________\n",
            "313/313 [==============================] - 3s 9ms/step - loss: 0.4182 - accuracy: 0.8501\n"
          ]
        },
        {
          "output_type": "execute_result",
          "data": {
            "text/plain": [
              "[0.4181942343711853, 0.8500999808311462]"
            ]
          },
          "metadata": {},
          "execution_count": 7
        }
      ]
    },
    {
      "cell_type": "code",
      "source": [
        "#방법2) w값만 저장 / 로드 (checkpoint 저장)\n",
        "model2 = tf.keras.Sequential([ \n",
        "    tf.keras.layers.Conv2D(32, (3,3), padding=\"same\", activation='relu', input_shape=(28,28,1)), \n",
        "    tf.keras.layers.MaxPooling2D((2,2)), \n",
        "    tf.keras.layers.Flatten(),\n",
        "    tf.keras.layers.Dense(128, activation=\"relu\"),\n",
        "    tf.keras.layers.Dense(10, activation=\"softmax\"), \n",
        "])\n",
        "\n",
        "model2.summary() \n",
        "\n",
        "model2.compile(loss=\"sparse_categorical_crossentropy\", optimizer=\"adam\", metrics=['accuracy']) \n",
        "\n",
        "model2.load_weights('checkpoint/mnist')### !!!This Part!!!\n",
        "\n",
        "model2.evaluate(testX, testY)"
      ],
      "metadata": {
        "colab": {
          "base_uri": "https://localhost:8080/"
        },
        "id": "kFeqEBMHMJt2",
        "outputId": "d8fc91aa-ca88-40a7-ae37-c58bbe6ba239"
      },
      "execution_count": null,
      "outputs": [
        {
          "output_type": "stream",
          "name": "stdout",
          "text": [
            "Model: \"sequential_5\"\n",
            "_________________________________________________________________\n",
            " Layer (type)                Output Shape              Param #   \n",
            "=================================================================\n",
            " conv2d_5 (Conv2D)           (None, 28, 28, 32)        320       \n",
            "                                                                 \n",
            " max_pooling2d_5 (MaxPooling  (None, 14, 14, 32)       0         \n",
            " 2D)                                                             \n",
            "                                                                 \n",
            " flatten_5 (Flatten)         (None, 6272)              0         \n",
            "                                                                 \n",
            " dense_10 (Dense)            (None, 128)               802944    \n",
            "                                                                 \n",
            " dense_11 (Dense)            (None, 10)                1290      \n",
            "                                                                 \n",
            "=================================================================\n",
            "Total params: 804,554\n",
            "Trainable params: 804,554\n",
            "Non-trainable params: 0\n",
            "_________________________________________________________________\n",
            "313/313 [==============================] - 3s 8ms/step - loss: 0.2663 - accuracy: 0.9049\n"
          ]
        },
        {
          "output_type": "execute_result",
          "data": {
            "text/plain": [
              "[0.26627978682518005, 0.9049000144004822]"
            ]
          },
          "metadata": {},
          "execution_count": 11
        }
      ]
    }
  ]
}