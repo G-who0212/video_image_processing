{
  "nbformat": 4,
  "nbformat_minor": 0,
  "metadata": {
    "colab": {
      "provenance": [],
      "authorship_tag": "ABX9TyPNFfNNCuc5OcDyb8cDpJfR",
      "include_colab_link": true
    },
    "kernelspec": {
      "name": "python3",
      "display_name": "Python 3"
    },
    "language_info": {
      "name": "python"
    }
  },
  "cells": [
    {
      "cell_type": "markdown",
      "metadata": {
        "id": "view-in-github",
        "colab_type": "text"
      },
      "source": [
        "<a href=\"https://colab.research.google.com/github/G-who0212/video_image_processing/blob/main/practice/Clothes_without_conv.ipynb\" target=\"_parent\"><img src=\"https://colab.research.google.com/assets/colab-badge.svg\" alt=\"Open In Colab\"/></a>"
      ]
    },
    {
      "cell_type": "code",
      "execution_count": null,
      "metadata": {
        "colab": {
          "base_uri": "https://localhost:8080/"
        },
        "id": "d5qRH1K3zZY1",
        "outputId": "cbb1ac38-6b35-435c-a335-fc78f2a81bde"
      },
      "outputs": [
        {
          "output_type": "stream",
          "name": "stdout",
          "text": [
            "Model: \"sequential_5\"\n",
            "_________________________________________________________________\n",
            " Layer (type)                Output Shape              Param #   \n",
            "=================================================================\n",
            " dense_15 (Dense)            (None, 28, 128)           3712      \n",
            "                                                                 \n",
            " dense_16 (Dense)            (None, 28, 64)            8256      \n",
            "                                                                 \n",
            " flatten_5 (Flatten)         (None, 1792)              0         \n",
            "                                                                 \n",
            " dense_17 (Dense)            (None, 10)                17930     \n",
            "                                                                 \n",
            "=================================================================\n",
            "Total params: 29,898\n",
            "Trainable params: 29,898\n",
            "Non-trainable params: 0\n",
            "_________________________________________________________________\n",
            "Epoch 1/5\n",
            "1875/1875 [==============================] - 10s 5ms/step - loss: 1.0558 - accuracy: 0.7888\n",
            "Epoch 2/5\n",
            "1875/1875 [==============================] - 10s 5ms/step - loss: 0.4681 - accuracy: 0.8374\n",
            "Epoch 3/5\n",
            "1875/1875 [==============================] - 10s 5ms/step - loss: 0.4445 - accuracy: 0.8458\n",
            "Epoch 4/5\n",
            "1875/1875 [==============================] - 10s 5ms/step - loss: 0.4175 - accuracy: 0.8533\n",
            "Epoch 5/5\n",
            "1875/1875 [==============================] - 10s 5ms/step - loss: 0.3922 - accuracy: 0.8609\n"
          ]
        },
        {
          "output_type": "execute_result",
          "data": {
            "text/plain": [
              "<keras.callbacks.History at 0x7f9dc839a5d0>"
            ]
          },
          "metadata": {},
          "execution_count": 6
        }
      ],
      "source": [
        "import tensorflow as tf\n",
        "import matplotlib.pyplot as plt\n",
        "\n",
        "(trainX, trainY), (testX, testY) = tf.keras.datasets.fashion_mnist.load_data() \n",
        "# ((trainX, trainY), (testX, testY))형식 -> (튜플(튜플(리스트, 리스트)), 튜플(리스트, 리스트)) 의 데이터를 준다.\n",
        "# print(trainX)\n",
        "# print(trainX[0])\n",
        "# print(trainX.shape)\n",
        "# print(trainY)\n",
        "\n",
        "# plt.imshow(trainX[1])\n",
        "# plt.gray()\n",
        "# plt.colorbar()\n",
        "# plt.show()\n",
        "\n",
        "class_name = ['T-shirt/top', 'Trouser', 'Pullover', 'Dress', 'Coat', 'Sandal', 'Shirt', 'Sneaker', 'Bag', 'Ankle boot']\n",
        "\n",
        "model = tf.keras.Sequential([ # model.summary()(모델 아웃라인 출력)를 해보려면 input_shape(젭어넣을 데이터의 모양)을 넣어줘야 함 / \n",
        "    tf.keras.layers.Dense(128, input_shape=(28,28), activation=\"relu\"), # trainX의 shape = (60000, 28, 28) => 28 * 28 데이터 60000개\n",
        "    tf.keras.layers.Dense(64, activation=\"relu\"),\n",
        "    tf.keras.layers.Flatten(), # 행렬을 1차원으로 압축해주는 Flatten 레이어 [[1,2,3],[1,2,3]] => [1,2,3,1,2,3]\n",
        "    tf.keras.layers.Dense(10, activation=\"softmax\"), # 결과를 0~1로 압축하고 싶다.\n",
        "    #sigmoid 활성함수도 0~1로 압축하는데, softmax랑 sigmoid의 차이는\n",
        "    #sigmoid는 주로 binary 예측문제 (기다 아니다)에서 사용하고, 마지막 노드 개수는 1개\n",
        "    #softmax는 여러가지 카테고리에서 어떤 카테고리에 속하는지 예측의 문제이다, 카테고리의 개수를 노드 개수로, 예측한 확률들을 다 더하면 1이 나옴\n",
        "])\n",
        "\n",
        "model.summary() # params = 학습 가능한 w, b의 개수\n",
        "\n",
        "model.compile(loss=\"sparse_categorical_crossentropy\", optimizer=\"adam\", metrics=['accuracy']) # 카테고리 예측문제에서 쓰는 loss\n",
        "#trainY데이터가 원핫인코딩이 돼있을 때 categorical_crossentropy, 정수로 0, 1, 2...으로 인코딩 돼있을 때 sparse_categorical_crossentropy 사용\n",
        "model.fit(trainX, trainY, epochs=5)"
      ]
    }
  ]
}