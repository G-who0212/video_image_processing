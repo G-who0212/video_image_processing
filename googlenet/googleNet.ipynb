{
  "cells": [
    {
      "cell_type": "markdown",
      "metadata": {
        "id": "view-in-github",
        "colab_type": "text"
      },
      "source": [
        "<a href=\"https://colab.research.google.com/github/G-who0212/video_image_processing/blob/main/googlenet/googleNet.ipynb\" target=\"_parent\"><img src=\"https://colab.research.google.com/assets/colab-badge.svg\" alt=\"Open In Colab\"/></a>"
      ]
    },
    {
      "cell_type": "code",
      "execution_count": null,
      "metadata": {
        "id": "jOAXblTnWKJn"
      },
      "outputs": [],
      "source": [
        "import tensorflow as tf\n",
        "import matplotlib.pyplot as plt\n",
        "from tensorflow.keras import datasets, layers, models, losses, Model"
      ]
    },
    {
      "cell_type": "code",
      "execution_count": null,
      "metadata": {
        "colab": {
          "base_uri": "https://localhost:8080/"
        },
        "id": "MSP8EV24envN",
        "outputId": "c7f42c99-5aac-4e67-90fb-87fb9c1425a1"
      },
      "outputs": [
        {
          "name": "stdout",
          "output_type": "stream",
          "text": [
            "Found 3355 images belonging to 7 classes.\n",
            "[[[1.         1.         1.        ]\n",
            "  [1.         1.         1.        ]\n",
            "  [1.         1.         1.        ]\n",
            "  ...\n",
            "  [0.99896884 1.         0.9979377 ]\n",
            "  [0.997147   1.         1.        ]\n",
            "  [0.99889416 1.         1.        ]]\n",
            "\n",
            " [[1.         1.         1.        ]\n",
            "  [1.         1.         1.        ]\n",
            "  [1.         1.         1.        ]\n",
            "  ...\n",
            "  [0.99950886 1.         0.99901766]\n",
            "  [0.99660707 1.         1.        ]\n",
            "  [0.9994342  1.         1.        ]]\n",
            "\n",
            " [[1.         1.         1.        ]\n",
            "  [1.         1.         1.        ]\n",
            "  [1.         1.         1.        ]\n",
            "  ...\n",
            "  [0.9999644  0.99996054 1.        ]\n",
            "  [0.9966059  0.9984523  1.        ]\n",
            "  [0.99997413 1.         1.        ]]\n",
            "\n",
            " ...\n",
            "\n",
            " [[1.         1.         1.        ]\n",
            "  [1.         1.         1.        ]\n",
            "  [1.         1.         1.        ]\n",
            "  ...\n",
            "  [1.         1.         1.        ]\n",
            "  [1.         1.         1.        ]\n",
            "  [1.         1.         1.        ]]\n",
            "\n",
            " [[1.         1.         1.        ]\n",
            "  [1.         1.         1.        ]\n",
            "  [1.         1.         1.        ]\n",
            "  ...\n",
            "  [1.         1.         1.        ]\n",
            "  [1.         1.         1.        ]\n",
            "  [1.         1.         1.        ]]\n",
            "\n",
            " [[1.         1.         1.        ]\n",
            "  [1.         1.         1.        ]\n",
            "  [1.         1.         1.        ]\n",
            "  ...\n",
            "  [1.         1.         1.        ]\n",
            "  [1.         1.         1.        ]\n",
            "  [1.         1.         1.        ]]]\n"
          ]
        }
      ],
      "source": [
        "from tensorflow.keras.preprocessing.image import ImageDataGenerator\n",
        "IMAGE_SIZE = 32\n",
        "\n",
        "train_datagen = ImageDataGenerator(\n",
        "        rescale=1./255,\n",
        "        rotation_range=10,\n",
        "        horizontal_flip=True\n",
        ")\n",
        "train_generator = train_datagen.flow_from_directory(\n",
        "        'drive/MyDrive/Cars Dataset/train',\n",
        "        target_size=(IMAGE_SIZE,IMAGE_SIZE),\n",
        "        class_mode=\"sparse\",\n",
        "        batch_size=64\n",
        ")\n",
        "\n",
        "count=0\n",
        "for image_batch, label_batch in train_generator:\n",
        "#     print(label_batch)\n",
        "    print(image_batch[0])\n",
        "    break"
      ]
    },
    {
      "cell_type": "code",
      "execution_count": null,
      "metadata": {
        "colab": {
          "base_uri": "https://localhost:8080/"
        },
        "id": "_SWw4ed1e4iM",
        "outputId": "992ac6f0-1814-410a-e840-66ef654b5188"
      },
      "outputs": [
        {
          "data": {
            "text/plain": [
              "['Audi',\n",
              " 'Hyundai Creta',\n",
              " 'Mahindra Scorpio',\n",
              " 'Rolls Royce',\n",
              " 'Swift',\n",
              " 'Tata Safari',\n",
              " 'Toyota Innova']"
            ]
          },
          "execution_count": 18,
          "metadata": {},
          "output_type": "execute_result"
        }
      ],
      "source": [
        "class_names = list(train_generator.class_indices.keys())\n",
        "class_names"
      ]
    },
    {
      "cell_type": "code",
      "execution_count": null,
      "metadata": {
        "colab": {
          "base_uri": "https://localhost:8080/"
        },
        "id": "Pmam_S-ke45x",
        "outputId": "bbf61dfa-f6f6-4c86-b651-d6ed5048d35b"
      },
      "outputs": [
        {
          "name": "stdout",
          "output_type": "stream",
          "text": [
            "Found 813 images belonging to 7 classes.\n"
          ]
        }
      ],
      "source": [
        "test_datagen = ImageDataGenerator(\n",
        "        rescale=1./255,\n",
        "        rotation_range=10,\n",
        "        horizontal_flip=True)\n",
        "\n",
        "test_generator = test_datagen.flow_from_directory(\n",
        "        'drive/MyDrive/Cars Dataset/test',\n",
        "        target_size=(IMAGE_SIZE,IMAGE_SIZE),\n",
        "        class_mode=\"sparse\",\n",
        "        batch_size=64\n",
        ")"
      ]
    },
    {
      "cell_type": "code",
      "execution_count": null,
      "metadata": {
        "colab": {
          "base_uri": "https://localhost:8080/"
        },
        "id": "_ZoljHg-e5KD",
        "outputId": "e34ec181-2579-47bd-cee8-163436f7f7c1"
      },
      "outputs": [
        {
          "name": "stdout",
          "output_type": "stream",
          "text": [
            "[[[0.9885715  0.9885715  0.9885715 ]\n",
            "  [0.9892497  0.9892497  0.9892497 ]\n",
            "  [0.989928   0.989928   0.989928  ]\n",
            "  ...\n",
            "  [0.9843138  0.9843138  0.9843138 ]\n",
            "  [0.9847091  0.9847091  0.9847091 ]\n",
            "  [0.98823535 0.98823535 0.98823535]]\n",
            "\n",
            " [[0.98823535 0.98823535 0.98823535]\n",
            "  [0.98823535 0.98823535 0.98823535]\n",
            "  [0.98823535 0.98823535 0.98823535]\n",
            "  ...\n",
            "  [0.9843138  0.9843138  0.9843138 ]\n",
            "  [0.98538727 0.98538727 0.98538727]\n",
            "  [0.98823535 0.98823535 0.98823535]]\n",
            "\n",
            " [[0.98823535 0.98823535 0.98823535]\n",
            "  [0.98823535 0.98823535 0.98823535]\n",
            "  [0.98823535 0.98823535 0.98823535]\n",
            "  ...\n",
            "  [0.9843138  0.9843138  0.9843138 ]\n",
            "  [0.9860655  0.9860655  0.9860655 ]\n",
            "  [0.98823535 0.98823535 0.98823535]]\n",
            "\n",
            " ...\n",
            "\n",
            " [[0.8096536  0.8096536  0.80626833]\n",
            "  [0.8510597  0.8510597  0.8510597 ]\n",
            "  [0.7656395  0.7698609  0.7677502 ]\n",
            "  ...\n",
            "  [0.7231133  0.7231133  0.73095644]\n",
            "  [0.69462764 0.69462764 0.7024708 ]\n",
            "  [0.666142   0.666142   0.6739851 ]]\n",
            "\n",
            " [[0.83406985 0.83406985 0.8320411 ]\n",
            "  [0.8449556  0.8449556  0.8449556 ]\n",
            "  [0.7432579  0.7488358  0.74604684]\n",
            "  ...\n",
            "  [0.7854889  0.7854889  0.79333204]\n",
            "  [0.7956623  0.7956623  0.8035054 ]\n",
            "  [0.8058358  0.8058358  0.8136789 ]]\n",
            "\n",
            " [[0.8584862  0.8584862  0.85781384]\n",
            "  [0.8388516  0.8388516  0.8388516 ]\n",
            "  [0.7208763  0.7278107  0.7243434 ]\n",
            "  ...\n",
            "  [0.6683097  0.6683097  0.6761528 ]\n",
            "  [0.7022212  0.7022212  0.71006435]\n",
            "  [0.73613274 0.73613274 0.7439759 ]]]\n"
          ]
        }
      ],
      "source": [
        "for image_batch, label_batch in test_generator:\n",
        "    print(image_batch[0])\n",
        "    break"
      ]
    },
    {
      "cell_type": "code",
      "execution_count": null,
      "metadata": {
        "id": "3Q2-e2rsWijL"
      },
      "outputs": [],
      "source": [
        "def inception(x,\n",
        "              filters_1x1,\n",
        "              filters_3x3_reduce,\n",
        "              filters_3x3,\n",
        "              filters_5x5_reduce,\n",
        "              filters_5x5,\n",
        "              filters_pool):\n",
        "  path1 = layers.Conv2D(filters_1x1, (1, 1), padding='same',    activation='relu')(x)\n",
        "  path2 = layers.Conv2D(filters_3x3_reduce, (1, 1), padding='same', activation='relu')(x)\n",
        "  path2 = layers.Conv2D(filters_3x3, (1, 1), padding='same', activation='relu')(path2)\n",
        "  path3 = layers.Conv2D(filters_5x5_reduce, (1, 1), padding='same', activation='relu')(x)\n",
        "  path3 = layers.Conv2D(filters_5x5, (1, 1), padding='same', activation='relu')(path3)\n",
        "  path4 = layers.MaxPool2D((3, 3), strides=(1, 1), padding='same')(x)\n",
        "  path4 = layers.Conv2D(filters_pool, (1, 1), padding='same', activation='relu')(path4)\n",
        "  return tf.concat([path1, path2, path3, path4], axis=3)"
      ]
    },
    {
      "cell_type": "code",
      "execution_count": null,
      "metadata": {
        "id": "40Jmzz2rWi7p"
      },
      "outputs": [],
      "source": [
        "inp = layers.Input(shape=(32, 32, 3))\n",
        "input_tensor = layers.experimental.preprocessing.Resizing(224, 224, interpolation=\"bilinear\", input_shape=(32, 32, 3))(inp)\n",
        "x = layers.Conv2D(64, 7, strides=2, padding='same', activation='relu')(input_tensor)\n",
        "x = layers.MaxPooling2D(3, strides=2)(x)\n",
        "x = layers.Conv2D(64, 1, strides=1, padding='same', activation='relu')(x)\n",
        "x = layers.Conv2D(192, 3, strides=1, padding='same', activation='relu')(x)\n",
        "x = layers.MaxPooling2D(3, strides=2)(x)\n",
        "x = inception(x, filters_1x1=64, filters_3x3_reduce=96, filters_3x3=128, filters_5x5_reduce=16, filters_5x5=32, filters_pool=32)\n",
        "x = inception(x, filters_1x1=128, filters_3x3_reduce=128, filters_3x3=192, filters_5x5_reduce=32, filters_5x5=96, filters_pool=64)\n",
        "x = layers.MaxPooling2D(3, strides=2)(x)\n",
        "x = inception(x, filters_1x1=192, filters_3x3_reduce=96, filters_3x3=208, filters_5x5_reduce=16, filters_5x5=48, filters_pool=64)\n",
        "aux1 = layers.AveragePooling2D((5, 5), strides=3)(x)\n",
        "aux1 =layers.Conv2D(128, 1, padding='same', activation='relu')(aux1)\n",
        "aux1 = layers.Flatten()(aux1)\n",
        "aux1 = layers.Dense(1024, activation='relu')(aux1)\n",
        "aux1 = layers.Dropout(0.7)(aux1)\n",
        "aux1 = layers.Dense(10, activation='softmax')(aux1)\n",
        "x = inception(x, filters_1x1=160, filters_3x3_reduce=112, filters_3x3=224, filters_5x5_reduce=24, filters_5x5=64, filters_pool=64)\n",
        "x = inception(x, filters_1x1=128, filters_3x3_reduce=128, filters_3x3=256, filters_5x5_reduce=24, filters_5x5=64, filters_pool=64)\n",
        "x = inception(x, filters_1x1=112, filters_3x3_reduce=144, filters_3x3=288, filters_5x5_reduce=32, filters_5x5=64, filters_pool=64)\n",
        "aux2 = layers.AveragePooling2D((5, 5), strides=3)(x)\n",
        "aux2 =layers.Conv2D(128, 1, padding='same', activation='relu')(aux2)\n",
        "aux2 = layers.Flatten()(aux2)\n",
        "aux2 = layers.Dense(1024, activation='relu')(aux2)\n",
        "aux2 = layers.Dropout(0.7)(aux2) \n",
        "aux2 = layers.Dense(10, activation='softmax')(aux2)\n",
        "x = inception(x, filters_1x1=256, filters_3x3_reduce=160, filters_3x3=320, filters_5x5_reduce=32, filters_5x5=128, filters_pool=128)\n",
        "x = layers.MaxPooling2D(3, strides=2)(x)\n",
        "x = inception(x, filters_1x1=256, filters_3x3_reduce=160, filters_3x3=320, filters_5x5_reduce=32, filters_5x5=128, filters_pool=128)\n",
        "x = inception(x, filters_1x1=384, filters_3x3_reduce=192, filters_3x3=384, filters_5x5_reduce=48, filters_5x5=128, filters_pool=128)\n",
        "x = layers.GlobalAveragePooling2D()(x)\n",
        "x = layers.Dropout(0.4)(x)\n",
        "out = layers.Dense(10, activation='softmax')(x)"
      ]
    },
    {
      "cell_type": "code",
      "execution_count": null,
      "metadata": {
        "id": "dGy9OLBFWjLs"
      },
      "outputs": [],
      "source": [
        "model = Model(inputs = inp, outputs = [out, aux1, aux2])"
      ]
    },
    {
      "cell_type": "code",
      "execution_count": null,
      "metadata": {
        "colab": {
          "background_save": true,
          "base_uri": "https://localhost:8080/"
        },
        "id": "cdoY3pJyWjaH",
        "outputId": "b293215b-22bb-473b-dc32-1719203757f9"
      },
      "outputs": [
        {
          "name": "stdout",
          "output_type": "stream",
          "text": [
            "Epoch 1/40\n",
            "53/53 [==============================] - 933s 17s/step - loss: 3.1199 - dense_9_loss: 1.9452 - dense_6_loss: 1.9540 - dense_8_loss: 1.9616 - dense_9_accuracy: 0.2328 - dense_6_accuracy: 0.2259 - dense_8_accuracy: 0.2289 - val_loss: 2.9878 - val_dense_9_loss: 1.8675 - val_dense_6_loss: 1.8690 - val_dense_8_loss: 1.8652 - val_dense_9_accuracy: 0.2337 - val_dense_6_accuracy: 0.2337 - val_dense_8_accuracy: 0.2337\n",
            "Epoch 2/40\n",
            "53/53 [==============================] - 619s 12s/step - loss: 3.0088 - dense_9_loss: 1.8754 - dense_6_loss: 1.8852 - dense_8_loss: 1.8929 - dense_9_accuracy: 0.2343 - dense_6_accuracy: 0.2489 - dense_8_accuracy: 0.2396 - val_loss: 2.9655 - val_dense_9_loss: 1.8611 - val_dense_6_loss: 1.8201 - val_dense_8_loss: 1.8613 - val_dense_9_accuracy: 0.2448 - val_dense_6_accuracy: 0.2927 - val_dense_8_accuracy: 0.2448\n",
            "Epoch 3/40\n",
            "53/53 [==============================] - 617s 12s/step - loss: 2.9588 - dense_9_loss: 1.8528 - dense_6_loss: 1.8317 - dense_8_loss: 1.8553 - dense_9_accuracy: 0.2483 - dense_6_accuracy: 0.2733 - dense_8_accuracy: 0.2417 - val_loss: 2.8792 - val_dense_9_loss: 1.8031 - val_dense_6_loss: 1.7930 - val_dense_8_loss: 1.7938 - val_dense_9_accuracy: 0.2854 - val_dense_6_accuracy: 0.3001 - val_dense_8_accuracy: 0.2927\n",
            "Epoch 4/40\n",
            "53/53 [==============================] - 631s 12s/step - loss: 2.8908 - dense_9_loss: 1.8116 - dense_6_loss: 1.7847 - dense_8_loss: 1.8125 - dense_9_accuracy: 0.2817 - dense_6_accuracy: 0.2942 - dense_8_accuracy: 0.2832 - val_loss: 2.9846 - val_dense_9_loss: 1.8596 - val_dense_6_loss: 1.8534 - val_dense_8_loss: 1.8967 - val_dense_9_accuracy: 0.2140 - val_dense_6_accuracy: 0.2829 - val_dense_8_accuracy: 0.2583\n",
            "Epoch 5/40\n",
            "53/53 [==============================] - 634s 12s/step - loss: 2.8729 - dense_9_loss: 1.7978 - dense_6_loss: 1.7872 - dense_8_loss: 1.7963 - dense_9_accuracy: 0.2855 - dense_6_accuracy: 0.2990 - dense_8_accuracy: 0.2951 - val_loss: 2.9032 - val_dense_9_loss: 1.8310 - val_dense_6_loss: 1.7792 - val_dense_8_loss: 1.7947 - val_dense_9_accuracy: 0.3050 - val_dense_6_accuracy: 0.2866 - val_dense_8_accuracy: 0.3087\n",
            "Epoch 6/40\n",
            "53/53 [==============================] - 617s 12s/step - loss: 2.8911 - dense_9_loss: 1.8102 - dense_6_loss: 1.7983 - dense_8_loss: 1.8047 - dense_9_accuracy: 0.2832 - dense_6_accuracy: 0.2954 - dense_8_accuracy: 0.2841 - val_loss: 2.8567 - val_dense_9_loss: 1.7942 - val_dense_6_loss: 1.7669 - val_dense_8_loss: 1.7748 - val_dense_9_accuracy: 0.2977 - val_dense_6_accuracy: 0.3235 - val_dense_8_accuracy: 0.3087\n",
            "Epoch 7/40\n",
            "53/53 [==============================] - 618s 12s/step - loss: 2.8536 - dense_9_loss: 1.7893 - dense_6_loss: 1.7727 - dense_8_loss: 1.7749 - dense_9_accuracy: 0.2969 - dense_6_accuracy: 0.3058 - dense_8_accuracy: 0.2954 - val_loss: 2.8410 - val_dense_9_loss: 1.7872 - val_dense_6_loss: 1.7498 - val_dense_8_loss: 1.7630 - val_dense_9_accuracy: 0.3038 - val_dense_6_accuracy: 0.3198 - val_dense_8_accuracy: 0.3124\n",
            "Epoch 8/40\n",
            "53/53 [==============================] - 616s 12s/step - loss: 2.8343 - dense_9_loss: 1.7809 - dense_6_loss: 1.7454 - dense_8_loss: 1.7660 - dense_9_accuracy: 0.2951 - dense_6_accuracy: 0.3222 - dense_8_accuracy: 0.3067 - val_loss: 2.8148 - val_dense_9_loss: 1.7778 - val_dense_6_loss: 1.7111 - val_dense_8_loss: 1.7455 - val_dense_9_accuracy: 0.3149 - val_dense_6_accuracy: 0.3309 - val_dense_8_accuracy: 0.3260\n",
            "Epoch 9/40\n",
            "53/53 [==============================] - 614s 12s/step - loss: 2.8258 - dense_9_loss: 1.7808 - dense_6_loss: 1.7214 - dense_8_loss: 1.7620 - dense_9_accuracy: 0.3091 - dense_6_accuracy: 0.3452 - dense_8_accuracy: 0.3228 - val_loss: 2.7769 - val_dense_9_loss: 1.7462 - val_dense_6_loss: 1.7054 - val_dense_8_loss: 1.7301 - val_dense_9_accuracy: 0.3149 - val_dense_6_accuracy: 0.3678 - val_dense_8_accuracy: 0.3272\n",
            "Epoch 10/40\n",
            "53/53 [==============================] - 611s 12s/step - loss: 2.7821 - dense_9_loss: 1.7509 - dense_6_loss: 1.7004 - dense_8_loss: 1.7369 - dense_9_accuracy: 0.3252 - dense_6_accuracy: 0.3532 - dense_8_accuracy: 0.3317 - val_loss: 2.7624 - val_dense_9_loss: 1.7363 - val_dense_6_loss: 1.7066 - val_dense_8_loss: 1.7136 - val_dense_9_accuracy: 0.3518 - val_dense_6_accuracy: 0.3506 - val_dense_8_accuracy: 0.3616\n",
            "Epoch 11/40\n",
            "53/53 [==============================] - 610s 12s/step - loss: 2.7612 - dense_9_loss: 1.7364 - dense_6_loss: 1.6890 - dense_8_loss: 1.7269 - dense_9_accuracy: 0.3311 - dense_6_accuracy: 0.3517 - dense_8_accuracy: 0.3425 - val_loss: 2.7958 - val_dense_9_loss: 1.7690 - val_dense_6_loss: 1.6913 - val_dense_8_loss: 1.7314 - val_dense_9_accuracy: 0.3173 - val_dense_6_accuracy: 0.3727 - val_dense_8_accuracy: 0.3469\n",
            "Epoch 12/40\n",
            "53/53 [==============================] - 615s 12s/step - loss: 2.7561 - dense_9_loss: 1.7346 - dense_6_loss: 1.6853 - dense_8_loss: 1.7200 - dense_9_accuracy: 0.3428 - dense_6_accuracy: 0.3580 - dense_8_accuracy: 0.3568 - val_loss: 2.7287 - val_dense_9_loss: 1.7260 - val_dense_6_loss: 1.6515 - val_dense_8_loss: 1.6908 - val_dense_9_accuracy: 0.3604 - val_dense_6_accuracy: 0.3838 - val_dense_8_accuracy: 0.3948\n",
            "Epoch 13/40\n",
            "53/53 [==============================] - 623s 12s/step - loss: 2.7068 - dense_9_loss: 1.7095 - dense_6_loss: 1.6377 - dense_8_loss: 1.6867 - dense_9_accuracy: 0.3544 - dense_6_accuracy: 0.3669 - dense_8_accuracy: 0.3666 - val_loss: 2.6990 - val_dense_9_loss: 1.7109 - val_dense_6_loss: 1.6132 - val_dense_8_loss: 1.6803 - val_dense_9_accuracy: 0.3690 - val_dense_6_accuracy: 0.3985 - val_dense_8_accuracy: 0.3936\n",
            "Epoch 14/40\n",
            "53/53 [==============================] - 612s 12s/step - loss: 2.7047 - dense_9_loss: 1.7092 - dense_6_loss: 1.6298 - dense_8_loss: 1.6885 - dense_9_accuracy: 0.3484 - dense_6_accuracy: 0.3726 - dense_8_accuracy: 0.3645 - val_loss: 2.7067 - val_dense_9_loss: 1.7187 - val_dense_6_loss: 1.6105 - val_dense_8_loss: 1.6831 - val_dense_9_accuracy: 0.3530 - val_dense_6_accuracy: 0.3973 - val_dense_8_accuracy: 0.3764\n",
            "Epoch 15/40\n",
            "53/53 [==============================] - 615s 12s/step - loss: 2.6956 - dense_9_loss: 1.7091 - dense_6_loss: 1.6108 - dense_8_loss: 1.6774 - dense_9_accuracy: 0.3461 - dense_6_accuracy: 0.3836 - dense_8_accuracy: 0.3648 - val_loss: 2.6837 - val_dense_9_loss: 1.7103 - val_dense_6_loss: 1.5919 - val_dense_8_loss: 1.6527 - val_dense_9_accuracy: 0.3383 - val_dense_6_accuracy: 0.3948 - val_dense_8_accuracy: 0.3788\n",
            "Epoch 16/40\n",
            "53/53 [==============================] - 632s 12s/step - loss: 2.6798 - dense_9_loss: 1.7000 - dense_6_loss: 1.6042 - dense_8_loss: 1.6617 - dense_9_accuracy: 0.3514 - dense_6_accuracy: 0.3925 - dense_8_accuracy: 0.3693 - val_loss: 2.6467 - val_dense_9_loss: 1.6846 - val_dense_6_loss: 1.5764 - val_dense_8_loss: 1.6306 - val_dense_9_accuracy: 0.3948 - val_dense_6_accuracy: 0.4354 - val_dense_8_accuracy: 0.4022\n",
            "Epoch 17/40\n",
            "53/53 [==============================] - 627s 12s/step - loss: 2.6535 - dense_9_loss: 1.6884 - dense_6_loss: 1.5742 - dense_8_loss: 1.6429 - dense_9_accuracy: 0.3577 - dense_6_accuracy: 0.4066 - dense_8_accuracy: 0.3800 - val_loss: 2.6422 - val_dense_9_loss: 1.6872 - val_dense_6_loss: 1.5677 - val_dense_8_loss: 1.6157 - val_dense_9_accuracy: 0.3788 - val_dense_6_accuracy: 0.4305 - val_dense_8_accuracy: 0.4010\n",
            "Epoch 18/40\n",
            "53/53 [==============================] - 611s 12s/step - loss: 2.6226 - dense_9_loss: 1.6768 - dense_6_loss: 1.5427 - dense_8_loss: 1.6101 - dense_9_accuracy: 0.3624 - dense_6_accuracy: 0.4253 - dense_8_accuracy: 0.3934 - val_loss: 2.5979 - val_dense_9_loss: 1.6615 - val_dense_6_loss: 1.5242 - val_dense_8_loss: 1.5972 - val_dense_9_accuracy: 0.3752 - val_dense_6_accuracy: 0.4428 - val_dense_8_accuracy: 0.4108\n",
            "Epoch 19/40\n",
            "53/53 [==============================] - 618s 12s/step - loss: 2.5886 - dense_9_loss: 1.6533 - dense_6_loss: 1.5273 - dense_8_loss: 1.5906 - dense_9_accuracy: 0.3782 - dense_6_accuracy: 0.4256 - dense_8_accuracy: 0.4045 - val_loss: 2.5419 - val_dense_9_loss: 1.6241 - val_dense_6_loss: 1.4989 - val_dense_8_loss: 1.5604 - val_dense_9_accuracy: 0.4084 - val_dense_6_accuracy: 0.4563 - val_dense_8_accuracy: 0.4305\n",
            "Epoch 20/40\n",
            "53/53 [==============================] - 619s 12s/step - loss: 2.5540 - dense_9_loss: 1.6363 - dense_6_loss: 1.4984 - dense_8_loss: 1.5604 - dense_9_accuracy: 0.3747 - dense_6_accuracy: 0.4423 - dense_8_accuracy: 0.4101 - val_loss: 2.5448 - val_dense_9_loss: 1.6297 - val_dense_6_loss: 1.5065 - val_dense_8_loss: 1.5440 - val_dense_9_accuracy: 0.3788 - val_dense_6_accuracy: 0.4416 - val_dense_8_accuracy: 0.4194\n",
            "Epoch 21/40\n",
            "53/53 [==============================] - 605s 11s/step - loss: 2.5268 - dense_9_loss: 1.6279 - dense_6_loss: 1.4678 - dense_8_loss: 1.5283 - dense_9_accuracy: 0.3773 - dense_6_accuracy: 0.4519 - dense_8_accuracy: 0.4164 - val_loss: 2.5219 - val_dense_9_loss: 1.6096 - val_dense_6_loss: 1.5144 - val_dense_8_loss: 1.5265 - val_dense_9_accuracy: 0.4034 - val_dense_6_accuracy: 0.4219 - val_dense_8_accuracy: 0.4207\n",
            "Epoch 22/40\n",
            "53/53 [==============================] - 606s 11s/step - loss: 2.4793 - dense_9_loss: 1.5932 - dense_6_loss: 1.4459 - dense_8_loss: 1.5079 - dense_9_accuracy: 0.3970 - dense_6_accuracy: 0.4539 - dense_8_accuracy: 0.4385 - val_loss: 2.4531 - val_dense_9_loss: 1.5806 - val_dense_6_loss: 1.4365 - val_dense_8_loss: 1.4716 - val_dense_9_accuracy: 0.4084 - val_dense_6_accuracy: 0.4699 - val_dense_8_accuracy: 0.4502\n",
            "Epoch 23/40\n",
            "53/53 [==============================] - 611s 12s/step - loss: 2.4902 - dense_9_loss: 1.6017 - dense_6_loss: 1.4468 - dense_8_loss: 1.5149 - dense_9_accuracy: 0.4009 - dense_6_accuracy: 0.4611 - dense_8_accuracy: 0.4334 - val_loss: 2.4823 - val_dense_9_loss: 1.5931 - val_dense_6_loss: 1.4658 - val_dense_8_loss: 1.4983 - val_dense_9_accuracy: 0.4108 - val_dense_6_accuracy: 0.4453 - val_dense_8_accuracy: 0.4428\n",
            "Epoch 24/40\n",
            "53/53 [==============================] - 609s 11s/step - loss: 2.4393 - dense_9_loss: 1.5725 - dense_6_loss: 1.4126 - dense_8_loss: 1.4767 - dense_9_accuracy: 0.3955 - dense_6_accuracy: 0.4629 - dense_8_accuracy: 0.4471 - val_loss: 2.5309 - val_dense_9_loss: 1.6315 - val_dense_6_loss: 1.4811 - val_dense_8_loss: 1.5167 - val_dense_9_accuracy: 0.3936 - val_dense_6_accuracy: 0.4760 - val_dense_8_accuracy: 0.4330\n",
            "Epoch 25/40\n",
            "53/53 [==============================] - 612s 12s/step - loss: 2.3941 - dense_9_loss: 1.5412 - dense_6_loss: 1.3947 - dense_8_loss: 1.4481 - dense_9_accuracy: 0.4116 - dense_6_accuracy: 0.4867 - dense_8_accuracy: 0.4596 - val_loss: 2.3836 - val_dense_9_loss: 1.5268 - val_dense_6_loss: 1.4147 - val_dense_8_loss: 1.4413 - val_dense_9_accuracy: 0.4367 - val_dense_6_accuracy: 0.4834 - val_dense_8_accuracy: 0.4551\n",
            "Epoch 26/40\n",
            "53/53 [==============================] - 611s 12s/step - loss: 2.3728 - dense_9_loss: 1.5310 - dense_6_loss: 1.3704 - dense_8_loss: 1.4357 - dense_9_accuracy: 0.4215 - dense_6_accuracy: 0.4903 - dense_8_accuracy: 0.4632 - val_loss: 2.3732 - val_dense_9_loss: 1.5319 - val_dense_6_loss: 1.3769 - val_dense_8_loss: 1.4275 - val_dense_9_accuracy: 0.4256 - val_dense_6_accuracy: 0.5006 - val_dense_8_accuracy: 0.4711\n",
            "Epoch 27/40\n",
            "53/53 [==============================] - 607s 11s/step - loss: 2.3279 - dense_9_loss: 1.4998 - dense_6_loss: 1.3483 - dense_8_loss: 1.4120 - dense_9_accuracy: 0.4319 - dense_6_accuracy: 0.4948 - dense_8_accuracy: 0.4748 - val_loss: 2.4676 - val_dense_9_loss: 1.5866 - val_dense_6_loss: 1.4466 - val_dense_8_loss: 1.4903 - val_dense_9_accuracy: 0.3776 - val_dense_6_accuracy: 0.4760 - val_dense_8_accuracy: 0.4428\n",
            "Epoch 28/40\n",
            "53/53 [==============================] - 606s 11s/step - loss: 2.3059 - dense_9_loss: 1.4903 - dense_6_loss: 1.3252 - dense_8_loss: 1.3937 - dense_9_accuracy: 0.4319 - dense_6_accuracy: 0.5148 - dense_8_accuracy: 0.4891 - val_loss: 2.3409 - val_dense_9_loss: 1.5007 - val_dense_6_loss: 1.3919 - val_dense_8_loss: 1.4085 - val_dense_9_accuracy: 0.4305 - val_dense_6_accuracy: 0.4871 - val_dense_8_accuracy: 0.4723\n",
            "Epoch 29/40\n",
            "53/53 [==============================] - 603s 11s/step - loss: 2.2472 - dense_9_loss: 1.4473 - dense_6_loss: 1.2989 - dense_8_loss: 1.3671 - dense_9_accuracy: 0.4438 - dense_6_accuracy: 0.5198 - dense_8_accuracy: 0.4849 - val_loss: 2.4420 - val_dense_9_loss: 1.5858 - val_dense_6_loss: 1.4005 - val_dense_8_loss: 1.4537 - val_dense_9_accuracy: 0.4010 - val_dense_6_accuracy: 0.4834 - val_dense_8_accuracy: 0.4539\n",
            "Epoch 30/40\n",
            "53/53 [==============================] - 603s 11s/step - loss: 2.2751 - dense_9_loss: 1.4722 - dense_6_loss: 1.3071 - dense_8_loss: 1.3690 - dense_9_accuracy: 0.4387 - dense_6_accuracy: 0.5195 - dense_8_accuracy: 0.4966 - val_loss: 2.2623 - val_dense_9_loss: 1.4631 - val_dense_6_loss: 1.3131 - val_dense_8_loss: 1.3511 - val_dense_9_accuracy: 0.4748 - val_dense_6_accuracy: 0.5289 - val_dense_8_accuracy: 0.5228\n",
            "Epoch 31/40\n",
            "53/53 [==============================] - 607s 11s/step - loss: 2.2086 - dense_9_loss: 1.4287 - dense_6_loss: 1.2667 - dense_8_loss: 1.3328 - dense_9_accuracy: 0.4629 - dense_6_accuracy: 0.5359 - dense_8_accuracy: 0.5028 - val_loss: 2.3025 - val_dense_9_loss: 1.4864 - val_dense_6_loss: 1.3454 - val_dense_8_loss: 1.3748 - val_dense_9_accuracy: 0.4551 - val_dense_6_accuracy: 0.5092 - val_dense_8_accuracy: 0.4945\n",
            "Epoch 32/40\n",
            "53/53 [==============================] - 604s 11s/step - loss: 2.1444 - dense_9_loss: 1.3845 - dense_6_loss: 1.2374 - dense_8_loss: 1.2957 - dense_9_accuracy: 0.4838 - dense_6_accuracy: 0.5419 - dense_8_accuracy: 0.5249 - val_loss: 2.2870 - val_dense_9_loss: 1.4626 - val_dense_6_loss: 1.3560 - val_dense_8_loss: 1.3920 - val_dense_9_accuracy: 0.4736 - val_dense_6_accuracy: 0.4969 - val_dense_8_accuracy: 0.4785\n",
            "Epoch 33/40\n",
            "53/53 [==============================] - 611s 12s/step - loss: 2.1236 - dense_9_loss: 1.3643 - dense_6_loss: 1.2327 - dense_8_loss: 1.2983 - dense_9_accuracy: 0.4900 - dense_6_accuracy: 0.5443 - dense_8_accuracy: 0.5103 - val_loss: 2.2456 - val_dense_9_loss: 1.4303 - val_dense_6_loss: 1.3465 - val_dense_8_loss: 1.3713 - val_dense_9_accuracy: 0.4723 - val_dense_6_accuracy: 0.4994 - val_dense_8_accuracy: 0.5105\n",
            "Epoch 34/40\n",
            "53/53 [==============================] - 616s 12s/step - loss: 2.1034 - dense_9_loss: 1.3606 - dense_6_loss: 1.2058 - dense_8_loss: 1.2701 - dense_9_accuracy: 0.4864 - dense_6_accuracy: 0.5562 - dense_8_accuracy: 0.5401 - val_loss: 2.2062 - val_dense_9_loss: 1.4200 - val_dense_6_loss: 1.2811 - val_dense_8_loss: 1.3394 - val_dense_9_accuracy: 0.4871 - val_dense_6_accuracy: 0.5326 - val_dense_8_accuracy: 0.5264\n",
            "Epoch 35/40\n",
            " 3/53 [>.............................] - ETA: 9:06 - loss: 2.0731 - dense_9_loss: 1.3328 - dense_6_loss: 1.1945 - dense_8_loss: 1.2733 - dense_9_accuracy: 0.5052 - dense_6_accuracy: 0.5208 - dense_8_accuracy: 0.4896"
          ]
        }
      ],
      "source": [
        "model.compile(optimizer='adam', \n",
        "              loss=[losses.sparse_categorical_crossentropy,\n",
        "                    losses.sparse_categorical_crossentropy,\n",
        "                    losses.sparse_categorical_crossentropy],\n",
        "              loss_weights=[1, 0.3, 0.3],\n",
        "              metrics=['accuracy'])\n",
        "history = model.fit(\n",
        "    train_generator,\n",
        "    validation_data=test_generator,\n",
        "    epochs=40)"
      ]
    },
    {
      "cell_type": "code",
      "execution_count": null,
      "metadata": {
        "id": "vGtl7DB0tBvo"
      },
      "outputs": [],
      "source": []
    },
    {
      "cell_type": "code",
      "execution_count": null,
      "metadata": {
        "id": "xWXi0vNyWjxm"
      },
      "outputs": [],
      "source": [
        "fig, axs = plt.subplots(2, 1, figsize=(15,15))\n",
        "axs[0].plot(history.history['loss'])\n",
        "axs[0].plot(history.history['val_loss'])\n",
        "axs[0].title.set_text('Training Loss vs Validation Loss')\n",
        "axs[0].set_xlabel('Epochs')\n",
        "axs[0].set_ylabel('Loss')\n",
        "axs[0].legend(['Train','Val'])\n",
        "axs[1].plot(history.history['dense_4_accuracy'])\n",
        "axs[1].plot(history.history['val_dense_4_accuracy'])\n",
        "axs[1].title.set_text('Training Accuracy vs Validation Accuracy')\n",
        "axs[1].set_xlabel('Epochs')\n",
        "axs[1].set_ylabel('Accuracy')\n",
        "axs[1].legend(['Train', 'Val'])"
      ]
    },
    {
      "cell_type": "code",
      "execution_count": null,
      "metadata": {
        "id": "h-_yAQbiWkB5"
      },
      "outputs": [],
      "source": [
        "scores = model.evaluate(test_generator)"
      ]
    },
    {
      "cell_type": "code",
      "execution_count": null,
      "metadata": {
        "id": "NuIurtkkY4F1"
      },
      "outputs": [],
      "source": [
        "scores"
      ]
    }
  ],
  "metadata": {
    "colab": {
      "provenance": [],
      "mount_file_id": "1FgYzIITCy9OVgcb-ms0giyEfVHIAfpC3",
      "authorship_tag": "ABX9TyMa0yF+ilBZzKxF9LOVtX73",
      "include_colab_link": true
    },
    "kernelspec": {
      "display_name": "Python 3",
      "name": "python3"
    },
    "language_info": {
      "name": "python"
    }
  },
  "nbformat": 4,
  "nbformat_minor": 0
}